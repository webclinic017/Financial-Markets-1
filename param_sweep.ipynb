{
  "nbformat": 4,
  "nbformat_minor": 0,
  "metadata": {
    "colab": {
      "provenance": [],
      "collapsed_sections": [],
      "authorship_tag": "ABX9TyPLSGnHTUw2Juwc9ixB1pW0",
      "include_colab_link": true
    },
    "kernelspec": {
      "name": "python3",
      "display_name": "Python 3"
    },
    "language_info": {
      "name": "python"
    },
    "widgets": {
      "application/vnd.jupyter.widget-state+json": {
        "dfafbdb302a54c81bce9cbc2f5f0fe49": {
          "model_module": "qgrid",
          "model_name": "QgridModel",
          "model_module_version": "^1.1.3",
          "state": {
            "_columns": {
              "index": {
                "name": "index",
                "type": "integer",
                "is_index": true,
                "index_display_text": "",
                "level": 0,
                "first_index": true,
                "position": 0,
                "field": "index",
                "id": "index",
                "cssClass": "integer",
                "editable": true,
                "defaultSortAsc": true,
                "maxWidth": null,
                "minWidth": 30,
                "resizable": true,
                "sortable": true,
                "toolTip": "",
                "width": null
              },
              "qgrid_unfiltered_index": {
                "name": "qgrid_unfiltered_index",
                "type": "integer",
                "position": 1,
                "field": "qgrid_unfiltered_index",
                "id": "qgrid_unfiltered_index",
                "cssClass": "integer",
                "editable": true,
                "defaultSortAsc": true,
                "maxWidth": null,
                "minWidth": 30,
                "resizable": true,
                "sortable": true,
                "toolTip": "",
                "width": null
              },
              "length_fast": {
                "name": "length_fast",
                "type": "integer",
                "position": 2,
                "field": "length_fast",
                "id": "length_fast",
                "cssClass": "integer",
                "editable": true,
                "defaultSortAsc": true,
                "maxWidth": null,
                "minWidth": 30,
                "resizable": true,
                "sortable": true,
                "toolTip": "",
                "width": null
              },
              "length_slow": {
                "name": "length_slow",
                "type": "integer",
                "position": 3,
                "field": "length_slow",
                "id": "length_slow",
                "cssClass": "integer",
                "editable": true,
                "defaultSortAsc": true,
                "maxWidth": null,
                "minWidth": 30,
                "resizable": true,
                "sortable": true,
                "toolTip": "",
                "width": null
              },
              "return": {
                "name": "return",
                "type": "number",
                "position": 4,
                "field": "return",
                "id": "return",
                "cssClass": "number",
                "editable": true,
                "defaultSortAsc": true,
                "maxWidth": null,
                "minWidth": 30,
                "resizable": true,
                "sortable": true,
                "toolTip": "",
                "width": null
              },
              "dd": {
                "name": "dd",
                "type": "number",
                "position": 5,
                "field": "dd",
                "id": "dd",
                "cssClass": "number",
                "editable": true,
                "defaultSortAsc": true,
                "maxWidth": null,
                "minWidth": 30,
                "resizable": true,
                "sortable": true,
                "toolTip": "",
                "width": null
              },
              "sharpe": {
                "name": "sharpe",
                "type": "number",
                "position": 6,
                "field": "sharpe",
                "id": "sharpe",
                "cssClass": "number",
                "editable": true,
                "defaultSortAsc": true,
                "maxWidth": null,
                "minWidth": 30,
                "resizable": true,
                "sortable": true,
                "toolTip": "",
                "width": null
              }
            },
            "_df_json": "{\"schema\":{\"fields\":[{\"name\":\"index\",\"type\":\"integer\"},{\"name\":\"qgrid_unfiltered_index\",\"type\":\"integer\"},{\"name\":\"length_fast\",\"type\":\"integer\"},{\"name\":\"length_slow\",\"type\":\"integer\"},{\"name\":\"return\",\"type\":\"number\"},{\"name\":\"dd\",\"type\":\"number\"},{\"name\":\"sharpe\",\"type\":\"number\"}],\"primaryKey\":[\"index\"],\"pandas_version\":\"0.20.0\"},\"data\":[{\"index\":0,\"qgrid_unfiltered_index\":0,\"length_fast\":1,\"length_slow\":1,\"return\":0.0,\"dd\":0.0,\"sharpe\":null},{\"index\":1,\"qgrid_unfiltered_index\":1,\"length_fast\":1,\"length_slow\":2,\"return\":1.02565,\"dd\":4.03463,\"sharpe\":-0.0701},{\"index\":2,\"qgrid_unfiltered_index\":2,\"length_fast\":1,\"length_slow\":3,\"return\":0.57043,\"dd\":3.78389,\"sharpe\":-0.38685},{\"index\":3,\"qgrid_unfiltered_index\":3,\"length_fast\":1,\"length_slow\":4,\"return\":0.75225,\"dd\":4.38432,\"sharpe\":-0.2195},{\"index\":4,\"qgrid_unfiltered_index\":4,\"length_fast\":1,\"length_slow\":5,\"return\":1.14647,\"dd\":4.16673,\"sharpe\":-0.04552},{\"index\":5,\"qgrid_unfiltered_index\":5,\"length_fast\":1,\"length_slow\":6,\"return\":1.88569,\"dd\":3.31867,\"sharpe\":0.50709},{\"index\":6,\"qgrid_unfiltered_index\":6,\"length_fast\":1,\"length_slow\":7,\"return\":2.2378,\"dd\":2.99843,\"sharpe\":0.79615},{\"index\":7,\"qgrid_unfiltered_index\":7,\"length_fast\":1,\"length_slow\":8,\"return\":2.5034,\"dd\":2.76433,\"sharpe\":0.69639},{\"index\":8,\"qgrid_unfiltered_index\":8,\"length_fast\":1,\"length_slow\":9,\"return\":2.48406,\"dd\":2.63603,\"sharpe\":0.6539},{\"index\":9,\"qgrid_unfiltered_index\":9,\"length_fast\":2,\"length_slow\":1,\"return\":2.17308,\"dd\":1.76137,\"sharpe\":0.76594},{\"index\":10,\"qgrid_unfiltered_index\":10,\"length_fast\":2,\"length_slow\":2,\"return\":0.0,\"dd\":0.0,\"sharpe\":null},{\"index\":11,\"qgrid_unfiltered_index\":11,\"length_fast\":2,\"length_slow\":3,\"return\":0.56282,\"dd\":3.6973,\"sharpe\":-0.37636},{\"index\":12,\"qgrid_unfiltered_index\":12,\"length_fast\":2,\"length_slow\":4,\"return\":1.2334,\"dd\":4.15507,\"sharpe\":0.01879},{\"index\":13,\"qgrid_unfiltered_index\":13,\"length_fast\":2,\"length_slow\":5,\"return\":2.15191,\"dd\":3.80531,\"sharpe\":1.03527},{\"index\":14,\"qgrid_unfiltered_index\":14,\"length_fast\":2,\"length_slow\":6,\"return\":2.25735,\"dd\":3.21468,\"sharpe\":0.63489},{\"index\":15,\"qgrid_unfiltered_index\":15,\"length_fast\":2,\"length_slow\":7,\"return\":2.66562,\"dd\":2.21203,\"sharpe\":0.71895},{\"index\":16,\"qgrid_unfiltered_index\":16,\"length_fast\":2,\"length_slow\":8,\"return\":2.81142,\"dd\":1.99276,\"sharpe\":0.61721},{\"index\":17,\"qgrid_unfiltered_index\":17,\"length_fast\":2,\"length_slow\":9,\"return\":2.96886,\"dd\":1.79748,\"sharpe\":0.71118},{\"index\":18,\"qgrid_unfiltered_index\":18,\"length_fast\":3,\"length_slow\":1,\"return\":2.61541,\"dd\":1.92828,\"sharpe\":0.71686},{\"index\":19,\"qgrid_unfiltered_index\":19,\"length_fast\":3,\"length_slow\":2,\"return\":2.61274,\"dd\":2.09612,\"sharpe\":0.6963},{\"index\":20,\"qgrid_unfiltered_index\":20,\"length_fast\":3,\"length_slow\":3,\"return\":0.0,\"dd\":0.0,\"sharpe\":null},{\"index\":21,\"qgrid_unfiltered_index\":21,\"length_fast\":3,\"length_slow\":4,\"return\":2.02927,\"dd\":2.70276,\"sharpe\":0.59836},{\"index\":22,\"qgrid_unfiltered_index\":22,\"length_fast\":3,\"length_slow\":5,\"return\":1.61559,\"dd\":3.90653,\"sharpe\":0.48719},{\"index\":23,\"qgrid_unfiltered_index\":23,\"length_fast\":3,\"length_slow\":6,\"return\":1.71585,\"dd\":3.0857,\"sharpe\":0.36606},{\"index\":24,\"qgrid_unfiltered_index\":24,\"length_fast\":3,\"length_slow\":7,\"return\":2.30491,\"dd\":3.14024,\"sharpe\":0.5099},{\"index\":25,\"qgrid_unfiltered_index\":25,\"length_fast\":3,\"length_slow\":8,\"return\":2.23543,\"dd\":3.20801,\"sharpe\":0.44632},{\"index\":26,\"qgrid_unfiltered_index\":26,\"length_fast\":3,\"length_slow\":9,\"return\":2.56892,\"dd\":3.03465,\"sharpe\":0.47302},{\"index\":27,\"qgrid_unfiltered_index\":27,\"length_fast\":4,\"length_slow\":1,\"return\":2.41647,\"dd\":1.38284,\"sharpe\":0.61545},{\"index\":28,\"qgrid_unfiltered_index\":28,\"length_fast\":4,\"length_slow\":2,\"return\":1.89182,\"dd\":1.40628,\"sharpe\":0.33799},{\"index\":29,\"qgrid_unfiltered_index\":29,\"length_fast\":4,\"length_slow\":3,\"return\":1.13461,\"dd\":2.27025,\"sharpe\":-0.02474},{\"index\":30,\"qgrid_unfiltered_index\":30,\"length_fast\":4,\"length_slow\":4,\"return\":0.0,\"dd\":0.0,\"sharpe\":null},{\"index\":31,\"qgrid_unfiltered_index\":31,\"length_fast\":4,\"length_slow\":5,\"return\":1.73953,\"dd\":3.28631,\"sharpe\":0.46843},{\"index\":32,\"qgrid_unfiltered_index\":32,\"length_fast\":4,\"length_slow\":6,\"return\":2.90751,\"dd\":2.14676,\"sharpe\":0.94073},{\"index\":33,\"qgrid_unfiltered_index\":33,\"length_fast\":4,\"length_slow\":7,\"return\":3.14874,\"dd\":1.89952,\"sharpe\":0.79509},{\"index\":34,\"qgrid_unfiltered_index\":34,\"length_fast\":4,\"length_slow\":8,\"return\":2.59617,\"dd\":2.21116,\"sharpe\":0.60665},{\"index\":35,\"qgrid_unfiltered_index\":35,\"length_fast\":4,\"length_slow\":9,\"return\":2.62408,\"dd\":2.37092,\"sharpe\":0.56418},{\"index\":36,\"qgrid_unfiltered_index\":36,\"length_fast\":5,\"length_slow\":1,\"return\":2.01403,\"dd\":1.56349,\"sharpe\":0.34073},{\"index\":37,\"qgrid_unfiltered_index\":37,\"length_fast\":5,\"length_slow\":2,\"return\":1.02233,\"dd\":2.70191,\"sharpe\":-0.05885},{\"index\":38,\"qgrid_unfiltered_index\":38,\"length_fast\":5,\"length_slow\":3,\"return\":1.57518,\"dd\":2.16507,\"sharpe\":0.1386},{\"index\":39,\"qgrid_unfiltered_index\":39,\"length_fast\":5,\"length_slow\":4,\"return\":1.42367,\"dd\":2.56988,\"sharpe\":0.09483},{\"index\":40,\"qgrid_unfiltered_index\":40,\"length_fast\":5,\"length_slow\":5,\"return\":0.0,\"dd\":0.0,\"sharpe\":null},{\"index\":41,\"qgrid_unfiltered_index\":41,\"length_fast\":5,\"length_slow\":6,\"return\":3.05248,\"dd\":1.71268,\"sharpe\":0.88779},{\"index\":42,\"qgrid_unfiltered_index\":42,\"length_fast\":5,\"length_slow\":7,\"return\":2.79137,\"dd\":2.34648,\"sharpe\":0.66184},{\"index\":43,\"qgrid_unfiltered_index\":43,\"length_fast\":5,\"length_slow\":8,\"return\":3.11152,\"dd\":1.71542,\"sharpe\":0.72592},{\"index\":44,\"qgrid_unfiltered_index\":44,\"length_fast\":5,\"length_slow\":9,\"return\":3.23382,\"dd\":1.66978,\"sharpe\":0.63242},{\"index\":45,\"qgrid_unfiltered_index\":45,\"length_fast\":6,\"length_slow\":1,\"return\":1.30799,\"dd\":2.28096,\"sharpe\":0.05023},{\"index\":46,\"qgrid_unfiltered_index\":46,\"length_fast\":6,\"length_slow\":2,\"return\":0.92306,\"dd\":2.31784,\"sharpe\":-0.12972},{\"index\":47,\"qgrid_unfiltered_index\":47,\"length_fast\":6,\"length_slow\":3,\"return\":1.4454,\"dd\":2.6623,\"sharpe\":0.11086},{\"index\":48,\"qgrid_unfiltered_index\":48,\"length_fast\":6,\"length_slow\":4,\"return\":0.30984,\"dd\":3.48479,\"sharpe\":-0.43914},{\"index\":49,\"qgrid_unfiltered_index\":49,\"length_fast\":6,\"length_slow\":5,\"return\":0.17886,\"dd\":3.99172,\"sharpe\":-0.51331},{\"index\":50,\"qgrid_unfiltered_index\":50,\"length_fast\":6,\"length_slow\":6,\"return\":0.0,\"dd\":0.0,\"sharpe\":null},{\"index\":51,\"qgrid_unfiltered_index\":51,\"length_fast\":6,\"length_slow\":7,\"return\":2.75647,\"dd\":2.94609,\"sharpe\":0.49847},{\"index\":52,\"qgrid_unfiltered_index\":52,\"length_fast\":6,\"length_slow\":8,\"return\":3.26442,\"dd\":1.9625,\"sharpe\":0.81262},{\"index\":53,\"qgrid_unfiltered_index\":53,\"length_fast\":6,\"length_slow\":9,\"return\":3.9058,\"dd\":1.54014,\"sharpe\":0.78959},{\"index\":54,\"qgrid_unfiltered_index\":54,\"length_fast\":7,\"length_slow\":1,\"return\":0.97629,\"dd\":2.67359,\"sharpe\":-0.085},{\"index\":55,\"qgrid_unfiltered_index\":55,\"length_fast\":7,\"length_slow\":2,\"return\":0.52662,\"dd\":3.4535,\"sharpe\":-0.31381},{\"index\":56,\"qgrid_unfiltered_index\":56,\"length_fast\":7,\"length_slow\":3,\"return\":0.90327,\"dd\":2.68222,\"sharpe\":-0.17254},{\"index\":57,\"qgrid_unfiltered_index\":57,\"length_fast\":7,\"length_slow\":4,\"return\":0.13523,\"dd\":3.39916,\"sharpe\":-0.51936},{\"index\":58,\"qgrid_unfiltered_index\":58,\"length_fast\":7,\"length_slow\":5,\"return\":0.43095,\"dd\":2.9961,\"sharpe\":-0.4636},{\"index\":59,\"qgrid_unfiltered_index\":59,\"length_fast\":7,\"length_slow\":6,\"return\":0.20384,\"dd\":2.73258,\"sharpe\":-1.18518},{\"index\":60,\"qgrid_unfiltered_index\":60,\"length_fast\":7,\"length_slow\":7,\"return\":0.0,\"dd\":0.0,\"sharpe\":null},{\"index\":61,\"qgrid_unfiltered_index\":61,\"length_fast\":7,\"length_slow\":8,\"return\":3.44831,\"dd\":1.2664,\"sharpe\":0.6431},{\"index\":62,\"qgrid_unfiltered_index\":62,\"length_fast\":7,\"length_slow\":9,\"return\":3.25474,\"dd\":1.51492,\"sharpe\":0.55957},{\"index\":63,\"qgrid_unfiltered_index\":63,\"length_fast\":8,\"length_slow\":1,\"return\":0.733,\"dd\":2.67359,\"sharpe\":-0.19813},{\"index\":64,\"qgrid_unfiltered_index\":64,\"length_fast\":8,\"length_slow\":2,\"return\":0.40185,\"dd\":3.48938,\"sharpe\":-0.48346},{\"index\":65,\"qgrid_unfiltered_index\":65,\"length_fast\":8,\"length_slow\":3,\"return\":0.99792,\"dd\":2.66949,\"sharpe\":-0.12262},{\"index\":66,\"qgrid_unfiltered_index\":66,\"length_fast\":8,\"length_slow\":4,\"return\":0.64902,\"dd\":3.08061,\"sharpe\":-0.29682},{\"index\":67,\"qgrid_unfiltered_index\":67,\"length_fast\":8,\"length_slow\":5,\"return\":-0.11879,\"dd\":3.35109,\"sharpe\":-0.89134},{\"index\":68,\"qgrid_unfiltered_index\":68,\"length_fast\":8,\"length_slow\":6,\"return\":-0.19878,\"dd\":3.24053,\"sharpe\":-0.79034},{\"index\":69,\"qgrid_unfiltered_index\":69,\"length_fast\":8,\"length_slow\":7,\"return\":-0.3918,\"dd\":3.98918,\"sharpe\":-1.60916},{\"index\":70,\"qgrid_unfiltered_index\":70,\"length_fast\":8,\"length_slow\":8,\"return\":0.0,\"dd\":0.0,\"sharpe\":null},{\"index\":71,\"qgrid_unfiltered_index\":71,\"length_fast\":8,\"length_slow\":9,\"return\":2.52113,\"dd\":1.62999,\"sharpe\":0.39219},{\"index\":72,\"qgrid_unfiltered_index\":72,\"length_fast\":9,\"length_slow\":1,\"return\":0.78044,\"dd\":2.7942,\"sharpe\":-0.18293},{\"index\":73,\"qgrid_unfiltered_index\":73,\"length_fast\":9,\"length_slow\":2,\"return\":0.28021,\"dd\":3.49056,\"sharpe\":-0.46544},{\"index\":74,\"qgrid_unfiltered_index\":74,\"length_fast\":9,\"length_slow\":3,\"return\":0.69195,\"dd\":2.56867,\"sharpe\":-0.43131},{\"index\":75,\"qgrid_unfiltered_index\":75,\"length_fast\":9,\"length_slow\":4,\"return\":0.61221,\"dd\":2.96319,\"sharpe\":-0.36496},{\"index\":76,\"qgrid_unfiltered_index\":76,\"length_fast\":9,\"length_slow\":5,\"return\":-0.21672,\"dd\":3.47771,\"sharpe\":-1.47018},{\"index\":77,\"qgrid_unfiltered_index\":77,\"length_fast\":9,\"length_slow\":6,\"return\":-0.79202,\"dd\":3.76173,\"sharpe\":-1.63955},{\"index\":78,\"qgrid_unfiltered_index\":78,\"length_fast\":9,\"length_slow\":7,\"return\":-0.12952,\"dd\":3.66945,\"sharpe\":-1.11666},{\"index\":79,\"qgrid_unfiltered_index\":79,\"length_fast\":9,\"length_slow\":8,\"return\":0.79482,\"dd\":3.8244,\"sharpe\":-0.27675},{\"index\":80,\"qgrid_unfiltered_index\":80,\"length_fast\":9,\"length_slow\":9,\"return\":0.0,\"dd\":0.0,\"sharpe\":null}]}",
            "_df_range": [
              0,
              100
            ],
            "_dom_classes": [],
            "_editable_rows": {},
            "_index_col_name": "qgrid_unfiltered_index",
            "_interval_columns": [],
            "_model_module": "qgrid",
            "_model_module_version": "^1.1.3",
            "_model_name": "QgridModel",
            "_multi_index": false,
            "_row_count": 81,
            "_row_styles": {},
            "_sort_ascending": true,
            "_sort_field": null,
            "_view_count": null,
            "_view_module": "qgrid",
            "_view_module_version": "^1.1.3",
            "_view_name": "QgridView",
            "_viewport_range": [
              0,
              100
            ],
            "grid_options": {
              "fullWidthRows": true,
              "syncColumnCellResize": true,
              "forceFitColumns": true,
              "defaultColumnWidth": 150,
              "rowHeight": 28,
              "enableColumnReorder": false,
              "enableTextSelectionOnCells": true,
              "editable": true,
              "autoEdit": false,
              "explicitInitialization": true,
              "maxVisibleRows": 15,
              "minVisibleRows": 8,
              "sortable": true,
              "filterable": true,
              "highlightSelectedCell": false,
              "highlightSelectedRow": true,
              "boldIndex": true
            },
            "id": "798f9d49-5a81-4887-afa8-26c66633eda7",
            "layout": "IPY_MODEL_3ebf66c0c5094c24abd564b66dc09cf2",
            "precision": 5,
            "show_toolbar": false
          }
        }
      }
    }
  },
  "cells": [
    {
      "cell_type": "markdown",
      "metadata": {
        "id": "view-in-github",
        "colab_type": "text"
      },
      "source": [
        "<a href=\"https://colab.research.google.com/github/jfreedman340/Financial-Markets/blob/main/param_sweep.ipynb\" target=\"_parent\"><img src=\"https://colab.research.google.com/assets/colab-badge.svg\" alt=\"Open In Colab\"/></a>"
      ]
    },
    {
      "cell_type": "code",
      "execution_count": null,
      "metadata": {
        "id": "icXA2aZ-vgDz"
      },
      "outputs": [],
      "source": [
        "pip install backtrader"
      ]
    },
    {
      "cell_type": "code",
      "source": [
        "pip install pandas"
      ],
      "metadata": {
        "id": "yj63OxOwvnRI"
      },
      "execution_count": null,
      "outputs": []
    },
    {
      "cell_type": "code",
      "source": [
        "pip install matplotlib"
      ],
      "metadata": {
        "id": "CUv61_t_vrpv"
      },
      "execution_count": null,
      "outputs": []
    },
    {
      "cell_type": "code",
      "source": [
        "pip install datetime"
      ],
      "metadata": {
        "id": "I4IrHVukvr-G"
      },
      "execution_count": null,
      "outputs": []
    },
    {
      "cell_type": "code",
      "source": [
        "pip install qgrid"
      ],
      "metadata": {
        "id": "BAPds_ncvsCs"
      },
      "execution_count": null,
      "outputs": []
    },
    {
      "cell_type": "code",
      "source": [
        "import backtrader as bt\n",
        "import backtrader.analyzers as btanalyzers\n",
        "import pandas as pd\n",
        "import matplotlib\n",
        "from datetime import datetime\n",
        "import qgrid"
      ],
      "metadata": {
        "id": "ZSBlmJzCvsKI"
      },
      "execution_count": null,
      "outputs": []
    },
    {
      "cell_type": "code",
      "source": [
        "class MaCrossStrategy(bt.Strategy):\n",
        " \n",
        "    params = (\n",
        "        ('fast_length', 10),\n",
        "        ('slow_length', 50)\n",
        "    )\n",
        "     \n",
        "    def __init__(self):\n",
        "        ma_fast = bt.ind.SMA(period = self.params.fast_length)\n",
        "        ma_slow = bt.ind.SMA(period = self.params.slow_length)\n",
        "         \n",
        "        self.crossover = bt.ind.CrossOver(ma_fast, ma_slow)\n",
        " \n",
        "    def next(self):\n",
        "        if not self.position:\n",
        "            if self.crossover > 0: \n",
        "                self.buy()\n",
        "        elif self.crossover < 0: \n",
        "            self.close()"
      ],
      "metadata": {
        "id": "iTDI1zclv9nm"
      },
      "execution_count": null,
      "outputs": []
    },
    {
      "cell_type": "code",
      "source": [
        "cerebro = bt.Cerebro()\n",
        " \n",
        "data = bt.feeds.YahooFinanceCSVData(dataname = 'AAPL.csv', fromdate = datetime(2010, 1, 1), todate = datetime(2020, 1, 1))\n",
        "cerebro.adddata(data)\n",
        " \n",
        "strats = cerebro.optstrategy(\n",
        "        MaCrossStrategy,\n",
        "        fast_length = range(1, 10), \n",
        "        slow_length = range(1, 10))\n",
        " \n",
        " \n",
        "cerebro.broker.setcash(1000000.0)\n",
        " \n",
        "cerebro.addsizer(bt.sizers.PercentSizer, percents = 10)\n",
        "cerebro.addanalyzer(btanalyzers.SharpeRatio, _name = \"sharpe\")\n",
        "cerebro.addanalyzer(btanalyzers.DrawDown, _name = \"drawdown\")\n",
        "cerebro.addanalyzer(btanalyzers.Returns, _name = \"returns\")\n",
        " \n",
        "back = cerebro.run(maxcpus=1)"
      ],
      "metadata": {
        "id": "a2caK1y7v_e-"
      },
      "execution_count": null,
      "outputs": []
    },
    {
      "cell_type": "code",
      "source": [
        "back"
      ],
      "metadata": {
        "id": "D3L8vFlpxgaz"
      },
      "execution_count": null,
      "outputs": []
    },
    {
      "cell_type": "code",
      "source": [
        "back[0][0].analyzers.sharpe.get_analysis()['sharperatio']"
      ],
      "metadata": {
        "id": "9vFU1_TGwaiT"
      },
      "execution_count": null,
      "outputs": []
    },
    {
      "cell_type": "code",
      "source": [
        "back[0][0].analyzers.drawdown.get_analysis()['max']['drawdown']"
      ],
      "metadata": {
        "colab": {
          "base_uri": "https://localhost:8080/"
        },
        "id": "q5O1uLM3wgpW",
        "outputId": "3fe94b86-6a8b-488e-e09c-213dcfd227a6"
      },
      "execution_count": null,
      "outputs": [
        {
          "output_type": "execute_result",
          "data": {
            "text/plain": [
              "0.0"
            ]
          },
          "metadata": {},
          "execution_count": 35
        }
      ]
    },
    {
      "cell_type": "code",
      "source": [
        "back[0][0].analyzers.returns.get_analysis()['rnorm100']"
      ],
      "metadata": {
        "colab": {
          "base_uri": "https://localhost:8080/"
        },
        "id": "4OhbpEwox20W",
        "outputId": "8a8d7c2c-a8df-4696-ae06-a74f6faf6a83"
      },
      "execution_count": null,
      "outputs": [
        {
          "output_type": "execute_result",
          "data": {
            "text/plain": [
              "0.0"
            ]
          },
          "metadata": {},
          "execution_count": 36
        }
      ]
    },
    {
      "cell_type": "code",
      "source": [
        "par_list = [[x[0].params.fast_length, \n",
        "             x[0].params.slow_length,\n",
        "             x[0].analyzers.returns.get_analysis()['rnorm100'], \n",
        "             x[0].analyzers.drawdown.get_analysis()['max']['drawdown'],\n",
        "             x[0].analyzers.sharpe.get_analysis()['sharperatio']\n",
        "            ] for x in back]\n",
        "par_list"
      ],
      "metadata": {
        "colab": {
          "base_uri": "https://localhost:8080/"
        },
        "id": "1_0l4vHiyGK7",
        "outputId": "dfff42ea-890d-4012-d591-19592c4af955"
      },
      "execution_count": null,
      "outputs": [
        {
          "output_type": "execute_result",
          "data": {
            "text/plain": [
              "[[1, 1, 0.0, 0.0, None],\n",
              " [1, 2, 1.0256488374612283, 4.034631254120626, -0.07010469200326193],\n",
              " [1, 3, 0.5704335825722359, 3.783892989231391, -0.3868507681478207],\n",
              " [1, 4, 0.7522490093584738, 4.384315654607195, -0.21949785758301824],\n",
              " [1, 5, 1.146470688878326, 4.166733729779052, -0.045516335624524354],\n",
              " [1, 6, 1.8856948864193466, 3.318668561755501, 0.5070910577082068],\n",
              " [1, 7, 2.23779941804275, 2.9984331555977697, 0.7961543275757154],\n",
              " [1, 8, 2.503403810936046, 2.764329796924742, 0.696392880184903],\n",
              " [1, 9, 2.4840633320203187, 2.6360273930559286, 0.6539034736425332],\n",
              " [2, 1, 2.1730826175728692, 1.7613729258807906, 0.7659435778882535],\n",
              " [2, 2, 0.0, 0.0, None],\n",
              " [2, 3, 0.5628199642525639, 3.6973021256558467, -0.3763613344476699],\n",
              " [2, 4, 1.2333998273677607, 4.155073523190263, 0.018786933186745118],\n",
              " [2, 5, 2.1519093878983675, 3.8053058585190715, 1.0352725159806289],\n",
              " [2, 6, 2.257352723363694, 3.2146756632624576, 0.6348933371268533],\n",
              " [2, 7, 2.665622995295057, 2.2120342253052345, 0.7189497005788181],\n",
              " [2, 8, 2.8114164412545697, 1.992763108994899, 0.6172116324068398],\n",
              " [2, 9, 2.9688600799983, 1.7974842956678505, 0.7111788619002686],\n",
              " [3, 1, 2.6154109896024837, 1.9282809905597047, 0.7168628911190378],\n",
              " [3, 2, 2.612741925139266, 2.0961211735304937, 0.69630076201661],\n",
              " [3, 3, 0.0, 0.0, None],\n",
              " [3, 4, 2.0292700543709095, 2.7027627569785575, 0.5983555112370021],\n",
              " [3, 5, 1.6155945904708924, 3.906532392059959, 0.4871939483453198],\n",
              " [3, 6, 1.7158489951014735, 3.085704425699126, 0.3660619475648705],\n",
              " [3, 7, 2.3049071863012354, 3.1402428847436084, 0.5099002521957204],\n",
              " [3, 8, 2.2354331649344785, 3.2080075509488495, 0.4463188199520888],\n",
              " [3, 9, 2.5689224429089994, 3.03464673026605, 0.4730151214312519],\n",
              " [4, 1, 2.4164667331313634, 1.3828362775430558, 0.6154508998858615],\n",
              " [4, 2, 1.8918150968916567, 1.4062751594591176, 0.33799061571763384],\n",
              " [4, 3, 1.1346093073069317, 2.270253150139903, -0.024738674670820342],\n",
              " [4, 4, 0.0, 0.0, None],\n",
              " [4, 5, 1.7395281116788668, 3.2863078569699877, 0.4684317794403244],\n",
              " [4, 6, 2.907509196030552, 2.1467625340403247, 0.9407301055146091],\n",
              " [4, 7, 3.1487394807331675, 1.8995183557938708, 0.795087798799042],\n",
              " [4, 8, 2.596167617910486, 2.211160673726041, 0.6066497768421806],\n",
              " [4, 9, 2.624083281890038, 2.3709208409362597, 0.5641846599356857],\n",
              " [5, 1, 2.0140309458588304, 1.5634887550618357, 0.3407301869655626],\n",
              " [5, 2, 1.022326435746476, 2.7019142876157596, -0.05884548736520309],\n",
              " [5, 3, 1.575182743657637, 2.165068084846594, 0.1386003755560238],\n",
              " [5, 4, 1.4236695521489862, 2.5698815892458824, 0.09483283074865355],\n",
              " [5, 5, 0.0, 0.0, None],\n",
              " [5, 6, 3.0524754314295484, 1.7126757840463336, 0.8877876284083737],\n",
              " [5, 7, 2.7913698993750757, 2.3464759697430746, 0.6618351795705826],\n",
              " [5, 8, 3.111521401783875, 1.7154162549172187, 0.7259232466545216],\n",
              " [5, 9, 3.23381706404995, 1.669780370607588, 0.6324165116479524],\n",
              " [6, 1, 1.3079896469184722, 2.280958624790997, 0.05022800258517959],\n",
              " [6, 2, 0.9230565627625207, 2.3178359277213962, -0.1297156855443474],\n",
              " [6, 3, 1.445404996344013, 2.6622964684043073, 0.11086174419075442],\n",
              " [6, 4, 0.30984385731313774, 3.484785450239483, -0.4391356680027189],\n",
              " [6, 5, 0.17885685797347875, 3.9917209450256728, -0.5133128249615019],\n",
              " [6, 6, 0.0, 0.0, None],\n",
              " [6, 7, 2.7564666079943416, 2.9460903937494067, 0.49847290635621877],\n",
              " [6, 8, 3.264418564765334, 1.9624963721180964, 0.8126187761371244],\n",
              " [6, 9, 3.905803273748255, 1.5401394452744563, 0.7895921560223511],\n",
              " [7, 1, 0.9762870132724236, 2.673588909665772, -0.08500030739793603],\n",
              " [7, 2, 0.5266181082866752, 3.453496420936821, -0.31381341959033243],\n",
              " [7, 3, 0.9032708433245026, 2.68221885280408, -0.17254371613460898],\n",
              " [7, 4, 0.13523354741214713, 3.3991605284941224, -0.5193568370110007],\n",
              " [7, 5, 0.43095217396043606, 2.996101361259317, -0.4635952942459317],\n",
              " [7, 6, 0.20384265990922185, 2.732577583322234, -1.1851778394930177],\n",
              " [7, 7, 0.0, 0.0, None],\n",
              " [7, 8, 3.44830723121596, 1.2664046019464181, 0.6431045975928482],\n",
              " [7, 9, 3.2547388689702186, 1.5149192797826216, 0.5595667073135651],\n",
              " [8, 1, 0.7330042786624483, 2.6735889096657774, -0.19812781554280037],\n",
              " [8, 2, 0.4018516553632675, 3.4893783969747063, -0.4834634162761425],\n",
              " [8, 3, 0.9979174660460474, 2.6694948274249692, -0.12261938708436342],\n",
              " [8, 4, 0.6490219461760006, 3.0806057054300546, -0.2968236996786028],\n",
              " [8, 5, -0.11878534434661202, 3.351087020409631, -0.8913378549428576],\n",
              " [8, 6, -0.19877684575030224, 3.2405252526367163, -0.7903389786569174],\n",
              " [8, 7, -0.39180208336265093, 3.9891768193637476, -1.6091574651889093],\n",
              " [8, 8, 0.0, 0.0, None],\n",
              " [8, 9, 2.5211257025892833, 1.6299864494425234, 0.3921914418376954],\n",
              " [9, 1, 0.7804404036717548, 2.794195425209785, -0.18292576640203612],\n",
              " [9, 2, 0.28021077027064567, 3.490562467510454, -0.46544403143231766],\n",
              " [9, 3, 0.6919455646584552, 2.5686699345113264, -0.4313124340645243],\n",
              " [9, 4, 0.6122122993314868, 2.9631918329533073, -0.36496440818785825],\n",
              " [9, 5, -0.21671929106037757, 3.477711523723902, -1.4701818780688365],\n",
              " [9, 6, -0.7920209782588603, 3.761731204509232, -1.6395490635320051],\n",
              " [9, 7, -0.12951712820377337, 3.669453492389963, -1.1166633656422198],\n",
              " [9, 8, 0.7948210828201518, 3.8244025355580105, -0.2767506563575168],\n",
              " [9, 9, 0.0, 0.0, None]]"
            ]
          },
          "metadata": {},
          "execution_count": 37
        }
      ]
    },
    {
      "cell_type": "code",
      "source": [
        "par_df = pd.DataFrame(par_list, columns = ['length_fast', 'length_slow', 'return', 'dd', 'sharpe'])"
      ],
      "metadata": {
        "id": "eoLT-rnn3ZtB"
      },
      "execution_count": null,
      "outputs": []
    },
    {
      "cell_type": "code",
      "source": [
        "par_df"
      ],
      "metadata": {
        "colab": {
          "base_uri": "https://localhost:8080/",
          "height": 847
        },
        "id": "sp_JJi593fJ0",
        "outputId": "4464cf45-903e-4d4b-d918-767fbfd628e1"
      },
      "execution_count": null,
      "outputs": [
        {
          "output_type": "execute_result",
          "data": {
            "text/plain": [
              "    length_fast  length_slow    return        dd    sharpe\n",
              "0             1            1  0.000000  0.000000       NaN\n",
              "1             1            2  1.025649  4.034631 -0.070105\n",
              "2             1            3  0.570434  3.783893 -0.386851\n",
              "3             1            4  0.752249  4.384316 -0.219498\n",
              "4             1            5  1.146471  4.166734 -0.045516\n",
              "..          ...          ...       ...       ...       ...\n",
              "76            9            5 -0.216719  3.477712 -1.470182\n",
              "77            9            6 -0.792021  3.761731 -1.639549\n",
              "78            9            7 -0.129517  3.669453 -1.116663\n",
              "79            9            8  0.794821  3.824403 -0.276751\n",
              "80            9            9  0.000000  0.000000       NaN\n",
              "\n",
              "[81 rows x 5 columns]"
            ],
            "text/html": [
              "\n",
              "  <div id=\"df-5a36c53d-33ab-40cd-bed8-737e4c406950\">\n",
              "    <div class=\"colab-df-container\">\n",
              "      <div>\n",
              "<style scoped>\n",
              "    .dataframe tbody tr th:only-of-type {\n",
              "        vertical-align: middle;\n",
              "    }\n",
              "\n",
              "    .dataframe tbody tr th {\n",
              "        vertical-align: top;\n",
              "    }\n",
              "\n",
              "    .dataframe thead th {\n",
              "        text-align: right;\n",
              "    }\n",
              "</style>\n",
              "<table border=\"1\" class=\"dataframe\">\n",
              "  <thead>\n",
              "    <tr style=\"text-align: right;\">\n",
              "      <th></th>\n",
              "      <th>length_fast</th>\n",
              "      <th>length_slow</th>\n",
              "      <th>return</th>\n",
              "      <th>dd</th>\n",
              "      <th>sharpe</th>\n",
              "    </tr>\n",
              "  </thead>\n",
              "  <tbody>\n",
              "    <tr>\n",
              "      <th>0</th>\n",
              "      <td>1</td>\n",
              "      <td>1</td>\n",
              "      <td>0.000000</td>\n",
              "      <td>0.000000</td>\n",
              "      <td>NaN</td>\n",
              "    </tr>\n",
              "    <tr>\n",
              "      <th>1</th>\n",
              "      <td>1</td>\n",
              "      <td>2</td>\n",
              "      <td>1.025649</td>\n",
              "      <td>4.034631</td>\n",
              "      <td>-0.070105</td>\n",
              "    </tr>\n",
              "    <tr>\n",
              "      <th>2</th>\n",
              "      <td>1</td>\n",
              "      <td>3</td>\n",
              "      <td>0.570434</td>\n",
              "      <td>3.783893</td>\n",
              "      <td>-0.386851</td>\n",
              "    </tr>\n",
              "    <tr>\n",
              "      <th>3</th>\n",
              "      <td>1</td>\n",
              "      <td>4</td>\n",
              "      <td>0.752249</td>\n",
              "      <td>4.384316</td>\n",
              "      <td>-0.219498</td>\n",
              "    </tr>\n",
              "    <tr>\n",
              "      <th>4</th>\n",
              "      <td>1</td>\n",
              "      <td>5</td>\n",
              "      <td>1.146471</td>\n",
              "      <td>4.166734</td>\n",
              "      <td>-0.045516</td>\n",
              "    </tr>\n",
              "    <tr>\n",
              "      <th>...</th>\n",
              "      <td>...</td>\n",
              "      <td>...</td>\n",
              "      <td>...</td>\n",
              "      <td>...</td>\n",
              "      <td>...</td>\n",
              "    </tr>\n",
              "    <tr>\n",
              "      <th>76</th>\n",
              "      <td>9</td>\n",
              "      <td>5</td>\n",
              "      <td>-0.216719</td>\n",
              "      <td>3.477712</td>\n",
              "      <td>-1.470182</td>\n",
              "    </tr>\n",
              "    <tr>\n",
              "      <th>77</th>\n",
              "      <td>9</td>\n",
              "      <td>6</td>\n",
              "      <td>-0.792021</td>\n",
              "      <td>3.761731</td>\n",
              "      <td>-1.639549</td>\n",
              "    </tr>\n",
              "    <tr>\n",
              "      <th>78</th>\n",
              "      <td>9</td>\n",
              "      <td>7</td>\n",
              "      <td>-0.129517</td>\n",
              "      <td>3.669453</td>\n",
              "      <td>-1.116663</td>\n",
              "    </tr>\n",
              "    <tr>\n",
              "      <th>79</th>\n",
              "      <td>9</td>\n",
              "      <td>8</td>\n",
              "      <td>0.794821</td>\n",
              "      <td>3.824403</td>\n",
              "      <td>-0.276751</td>\n",
              "    </tr>\n",
              "    <tr>\n",
              "      <th>80</th>\n",
              "      <td>9</td>\n",
              "      <td>9</td>\n",
              "      <td>0.000000</td>\n",
              "      <td>0.000000</td>\n",
              "      <td>NaN</td>\n",
              "    </tr>\n",
              "  </tbody>\n",
              "</table>\n",
              "<p>81 rows × 5 columns</p>\n",
              "</div>\n",
              "      <button class=\"colab-df-convert\" onclick=\"convertToInteractive('df-5a36c53d-33ab-40cd-bed8-737e4c406950')\"\n",
              "              title=\"Convert this dataframe to an interactive table.\"\n",
              "              style=\"display:none;\">\n",
              "        \n",
              "  <svg xmlns=\"http://www.w3.org/2000/svg\" height=\"24px\"viewBox=\"0 0 24 24\"\n",
              "       width=\"24px\">\n",
              "    <path d=\"M0 0h24v24H0V0z\" fill=\"none\"/>\n",
              "    <path d=\"M18.56 5.44l.94 2.06.94-2.06 2.06-.94-2.06-.94-.94-2.06-.94 2.06-2.06.94zm-11 1L8.5 8.5l.94-2.06 2.06-.94-2.06-.94L8.5 2.5l-.94 2.06-2.06.94zm10 10l.94 2.06.94-2.06 2.06-.94-2.06-.94-.94-2.06-.94 2.06-2.06.94z\"/><path d=\"M17.41 7.96l-1.37-1.37c-.4-.4-.92-.59-1.43-.59-.52 0-1.04.2-1.43.59L10.3 9.45l-7.72 7.72c-.78.78-.78 2.05 0 2.83L4 21.41c.39.39.9.59 1.41.59.51 0 1.02-.2 1.41-.59l7.78-7.78 2.81-2.81c.8-.78.8-2.07 0-2.86zM5.41 20L4 18.59l7.72-7.72 1.47 1.35L5.41 20z\"/>\n",
              "  </svg>\n",
              "      </button>\n",
              "      \n",
              "  <style>\n",
              "    .colab-df-container {\n",
              "      display:flex;\n",
              "      flex-wrap:wrap;\n",
              "      gap: 12px;\n",
              "    }\n",
              "\n",
              "    .colab-df-convert {\n",
              "      background-color: #E8F0FE;\n",
              "      border: none;\n",
              "      border-radius: 50%;\n",
              "      cursor: pointer;\n",
              "      display: none;\n",
              "      fill: #1967D2;\n",
              "      height: 32px;\n",
              "      padding: 0 0 0 0;\n",
              "      width: 32px;\n",
              "    }\n",
              "\n",
              "    .colab-df-convert:hover {\n",
              "      background-color: #E2EBFA;\n",
              "      box-shadow: 0px 1px 2px rgba(60, 64, 67, 0.3), 0px 1px 3px 1px rgba(60, 64, 67, 0.15);\n",
              "      fill: #174EA6;\n",
              "    }\n",
              "\n",
              "    [theme=dark] .colab-df-convert {\n",
              "      background-color: #3B4455;\n",
              "      fill: #D2E3FC;\n",
              "    }\n",
              "\n",
              "    [theme=dark] .colab-df-convert:hover {\n",
              "      background-color: #434B5C;\n",
              "      box-shadow: 0px 1px 3px 1px rgba(0, 0, 0, 0.15);\n",
              "      filter: drop-shadow(0px 1px 2px rgba(0, 0, 0, 0.3));\n",
              "      fill: #FFFFFF;\n",
              "    }\n",
              "  </style>\n",
              "\n",
              "      <script>\n",
              "        const buttonEl =\n",
              "          document.querySelector('#df-5a36c53d-33ab-40cd-bed8-737e4c406950 button.colab-df-convert');\n",
              "        buttonEl.style.display =\n",
              "          google.colab.kernel.accessAllowed ? 'block' : 'none';\n",
              "\n",
              "        async function convertToInteractive(key) {\n",
              "          const element = document.querySelector('#df-5a36c53d-33ab-40cd-bed8-737e4c406950');\n",
              "          const dataTable =\n",
              "            await google.colab.kernel.invokeFunction('convertToInteractive',\n",
              "                                                     [key], {});\n",
              "          if (!dataTable) return;\n",
              "\n",
              "          const docLinkHtml = 'Like what you see? Visit the ' +\n",
              "            '<a target=\"_blank\" href=https://colab.research.google.com/notebooks/data_table.ipynb>data table notebook</a>'\n",
              "            + ' to learn more about interactive tables.';\n",
              "          element.innerHTML = '';\n",
              "          dataTable['output_type'] = 'display_data';\n",
              "          await google.colab.output.renderOutput(dataTable, element);\n",
              "          const docLink = document.createElement('div');\n",
              "          docLink.innerHTML = docLinkHtml;\n",
              "          element.appendChild(docLink);\n",
              "        }\n",
              "      </script>\n",
              "    </div>\n",
              "  </div>\n",
              "  "
            ]
          },
          "metadata": {},
          "execution_count": 43
        }
      ]
    },
    {
      "cell_type": "code",
      "source": [
        "qgrid.show_grid(par_df)"
      ],
      "metadata": {
        "colab": {
          "base_uri": "https://localhost:8080/",
          "height": 17,
          "referenced_widgets": [
            "dfafbdb302a54c81bce9cbc2f5f0fe49"
          ]
        },
        "id": "yWFq_p6d30G7",
        "outputId": "af6fdd34-3280-4a89-98bf-5d4735569183"
      },
      "execution_count": null,
      "outputs": [
        {
          "output_type": "display_data",
          "data": {
            "text/plain": [
              "QgridWidget(grid_options={'fullWidthRows': True, 'syncColumnCellResize': True, 'forceFitColumns': True, 'defau…"
            ],
            "application/vnd.jupyter.widget-view+json": {
              "version_major": 2,
              "version_minor": 0,
              "model_id": "dfafbdb302a54c81bce9cbc2f5f0fe49"
            }
          },
          "metadata": {
            "application/vnd.jupyter.widget-view+json": {
              "colab": {
                "custom_widget_manager": {
                  "url": "https://ssl.gstatic.com/colaboratory-static/widgets/colab-cdn-widget-manager/d2e234f7cc04bf79/manager.min.js"
                }
              }
            }
          }
        }
      ]
    }
  ]
}